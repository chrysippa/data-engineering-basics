{
 "cells": [
  {
   "cell_type": "markdown",
   "metadata": {},
   "source": [
    "# Cleaning salary survey data"
   ]
  },
  {
   "cell_type": "markdown",
   "metadata": {},
   "source": [
    "This data comes from [Ask A Manager's annual survey for 2023](https://www.askamanager.org/2023/04/how-much-money-do-you-make-6.html). The spreadsheet is available [here](https://docs.google.com/spreadsheets/d/1ioUjhnz6ywSpEbARI-G3RoPyO0NRBqrJnWf-7C_eirs/edit?resourcekey#gid=1854892322). I pulled the data on August 13th, so data pulled at a later date will probably contain more rows."
   ]
  },
  {
   "cell_type": "markdown",
   "metadata": {},
   "source": [
    "I found this source thanks to [Oscar Baruffa](https://oscarbaruffa.com/messy/), and as he points out, the dataset is great for cleaning because it's:\n",
    "* Real-life\n",
    "* Both numeric and text, where some text columns are categorical and others are free-form\n",
    "* Full of nulls"
   ]
  },
  {
   "cell_type": "markdown",
   "metadata": {},
   "source": [
    "Knowing the use case for a dataset is key to making correct decisions during cleaning: which columns to keep, which to modify, and how to make the end user's job easier. For this project, I'll clean the data as if a data analyst were the end user."
   ]
  },
  {
   "cell_type": "code",
   "execution_count": 1,
   "metadata": {},
   "outputs": [],
   "source": [
    "import pandas as pd"
   ]
  },
  {
   "cell_type": "code",
   "execution_count": 2,
   "metadata": {},
   "outputs": [],
   "source": [
    "df = pd.read_csv(\"Salary_Survey_2023.csv\")"
   ]
  },
  {
   "cell_type": "markdown",
   "metadata": {},
   "source": [
    "## Basic exploration"
   ]
  },
  {
   "cell_type": "code",
   "execution_count": 3,
   "metadata": {},
   "outputs": [
    {
     "data": {
      "text/html": [
       "<div>\n",
       "<style scoped>\n",
       "    .dataframe tbody tr th:only-of-type {\n",
       "        vertical-align: middle;\n",
       "    }\n",
       "\n",
       "    .dataframe tbody tr th {\n",
       "        vertical-align: top;\n",
       "    }\n",
       "\n",
       "    .dataframe thead th {\n",
       "        text-align: right;\n",
       "    }\n",
       "</style>\n",
       "<table border=\"1\" class=\"dataframe\">\n",
       "  <thead>\n",
       "    <tr style=\"text-align: right;\">\n",
       "      <th></th>\n",
       "      <th>Timestamp</th>\n",
       "      <th>How old are you?</th>\n",
       "      <th>Industry</th>\n",
       "      <th>Functional area of job</th>\n",
       "      <th>Job title</th>\n",
       "      <th>Job title - additional context</th>\n",
       "      <th>Annual salary (gross)</th>\n",
       "      <th>Additional monetary compensation</th>\n",
       "      <th>Currency</th>\n",
       "      <th>Currency - other</th>\n",
       "      <th>Income - additional context</th>\n",
       "      <th>Country</th>\n",
       "      <th>State</th>\n",
       "      <th>City</th>\n",
       "      <th>Remote or on-site?</th>\n",
       "      <th>Years of experience, overall</th>\n",
       "      <th>Years of experience in field</th>\n",
       "      <th>Highest level of education completed</th>\n",
       "      <th>Gender</th>\n",
       "      <th>Race</th>\n",
       "    </tr>\n",
       "  </thead>\n",
       "  <tbody>\n",
       "    <tr>\n",
       "      <th>0</th>\n",
       "      <td>4/11/2023 11:02:00</td>\n",
       "      <td>35-44</td>\n",
       "      <td>Government &amp; Public Administration</td>\n",
       "      <td>Engineering or Manufacturing</td>\n",
       "      <td>Materials Engineer</td>\n",
       "      <td>NaN</td>\n",
       "      <td>125000</td>\n",
       "      <td>800.0</td>\n",
       "      <td>USD</td>\n",
       "      <td>NaN</td>\n",
       "      <td>NaN</td>\n",
       "      <td>United States</td>\n",
       "      <td>California</td>\n",
       "      <td>Ridgecrest</td>\n",
       "      <td>On-site</td>\n",
       "      <td>11-20 years</td>\n",
       "      <td>11-20 years</td>\n",
       "      <td>College degree</td>\n",
       "      <td>Man</td>\n",
       "      <td>White</td>\n",
       "    </tr>\n",
       "    <tr>\n",
       "      <th>1</th>\n",
       "      <td>4/11/2023 11:02:07</td>\n",
       "      <td>25-34</td>\n",
       "      <td>Galleries, Libraries, Archives &amp; Museums</td>\n",
       "      <td>Galleries, Libraries, Archives &amp; Museums</td>\n",
       "      <td>Assistant Branch Manager</td>\n",
       "      <td>NaN</td>\n",
       "      <td>71000</td>\n",
       "      <td>0.0</td>\n",
       "      <td>USD</td>\n",
       "      <td>NaN</td>\n",
       "      <td>NaN</td>\n",
       "      <td>United States</td>\n",
       "      <td>Virginia</td>\n",
       "      <td>Fairfax County</td>\n",
       "      <td>On-site</td>\n",
       "      <td>8-10 years</td>\n",
       "      <td>5-7 years</td>\n",
       "      <td>Master's degree</td>\n",
       "      <td>Man</td>\n",
       "      <td>White</td>\n",
       "    </tr>\n",
       "    <tr>\n",
       "      <th>2</th>\n",
       "      <td>4/11/2023 11:02:12</td>\n",
       "      <td>35-44</td>\n",
       "      <td>Education (Higher Education)</td>\n",
       "      <td>Education (Higher Education)</td>\n",
       "      <td>Director of Financial Aid</td>\n",
       "      <td>NaN</td>\n",
       "      <td>60000</td>\n",
       "      <td>0.0</td>\n",
       "      <td>USD</td>\n",
       "      <td>NaN</td>\n",
       "      <td>NaN</td>\n",
       "      <td>United States</td>\n",
       "      <td>Oklahoma</td>\n",
       "      <td>Anadarko</td>\n",
       "      <td>On-site</td>\n",
       "      <td>21-30 years</td>\n",
       "      <td>11-20 years</td>\n",
       "      <td>College degree</td>\n",
       "      <td>Woman</td>\n",
       "      <td>White</td>\n",
       "    </tr>\n",
       "    <tr>\n",
       "      <th>3</th>\n",
       "      <td>4/11/2023 11:02:15</td>\n",
       "      <td>25-34</td>\n",
       "      <td>Education (Higher Education)</td>\n",
       "      <td>Government &amp; Public Administration</td>\n",
       "      <td>Administrative Assistant</td>\n",
       "      <td>NaN</td>\n",
       "      <td>42000</td>\n",
       "      <td>NaN</td>\n",
       "      <td>USD</td>\n",
       "      <td>NaN</td>\n",
       "      <td>NaN</td>\n",
       "      <td>United States</td>\n",
       "      <td>Virginia</td>\n",
       "      <td>Richmond</td>\n",
       "      <td>On-site</td>\n",
       "      <td>2-4 years</td>\n",
       "      <td>2-4 years</td>\n",
       "      <td>College degree</td>\n",
       "      <td>Man</td>\n",
       "      <td>White</td>\n",
       "    </tr>\n",
       "    <tr>\n",
       "      <th>4</th>\n",
       "      <td>4/11/2023 11:02:25</td>\n",
       "      <td>18-24</td>\n",
       "      <td>Accounting, Banking &amp; Finance</td>\n",
       "      <td>Administration</td>\n",
       "      <td>Executive Assistant</td>\n",
       "      <td>NaN</td>\n",
       "      <td>65000</td>\n",
       "      <td>0.0</td>\n",
       "      <td>USD</td>\n",
       "      <td>NaN</td>\n",
       "      <td>NaN</td>\n",
       "      <td>United States</td>\n",
       "      <td>Utah</td>\n",
       "      <td>Orem</td>\n",
       "      <td>On-site</td>\n",
       "      <td>2-4 years</td>\n",
       "      <td>2-4 years</td>\n",
       "      <td>Some college</td>\n",
       "      <td>Woman</td>\n",
       "      <td>White</td>\n",
       "    </tr>\n",
       "  </tbody>\n",
       "</table>\n",
       "</div>"
      ],
      "text/plain": [
       "            Timestamp How old are you?   \n",
       "0  4/11/2023 11:02:00            35-44  \\\n",
       "1  4/11/2023 11:02:07            25-34   \n",
       "2  4/11/2023 11:02:12            35-44   \n",
       "3  4/11/2023 11:02:15            25-34   \n",
       "4  4/11/2023 11:02:25            18-24   \n",
       "\n",
       "                                   Industry   \n",
       "0        Government & Public Administration  \\\n",
       "1  Galleries, Libraries, Archives & Museums   \n",
       "2              Education (Higher Education)   \n",
       "3              Education (Higher Education)   \n",
       "4             Accounting, Banking & Finance   \n",
       "\n",
       "                     Functional area of job                  Job title   \n",
       "0              Engineering or Manufacturing         Materials Engineer  \\\n",
       "1  Galleries, Libraries, Archives & Museums   Assistant Branch Manager   \n",
       "2              Education (Higher Education)  Director of Financial Aid   \n",
       "3        Government & Public Administration   Administrative Assistant   \n",
       "4                            Administration        Executive Assistant   \n",
       "\n",
       "  Job title - additional context  Annual salary (gross)   \n",
       "0                            NaN                 125000  \\\n",
       "1                            NaN                  71000   \n",
       "2                            NaN                  60000   \n",
       "3                            NaN                  42000   \n",
       "4                            NaN                  65000   \n",
       "\n",
       "   Additional monetary compensation Currency Currency - other   \n",
       "0                             800.0      USD              NaN  \\\n",
       "1                               0.0      USD              NaN   \n",
       "2                               0.0      USD              NaN   \n",
       "3                               NaN      USD              NaN   \n",
       "4                               0.0      USD              NaN   \n",
       "\n",
       "  Income - additional context        Country       State            City   \n",
       "0                         NaN  United States  California      Ridgecrest  \\\n",
       "1                         NaN  United States    Virginia  Fairfax County   \n",
       "2                         NaN  United States    Oklahoma       Anadarko    \n",
       "3                         NaN  United States    Virginia        Richmond   \n",
       "4                         NaN  United States        Utah            Orem   \n",
       "\n",
       "  Remote or on-site? Years of experience, overall   \n",
       "0            On-site                  11-20 years  \\\n",
       "1            On-site                   8-10 years   \n",
       "2            On-site                  21-30 years   \n",
       "3            On-site                    2-4 years   \n",
       "4            On-site                    2-4 years   \n",
       "\n",
       "  Years of experience in field Highest level of education completed Gender   \n",
       "0                  11-20 years                       College degree    Man  \\\n",
       "1                    5-7 years                      Master's degree    Man   \n",
       "2                  11-20 years                       College degree  Woman   \n",
       "3                    2-4 years                       College degree    Man   \n",
       "4                    2-4 years                         Some college  Woman   \n",
       "\n",
       "    Race  \n",
       "0  White  \n",
       "1  White  \n",
       "2  White  \n",
       "3  White  \n",
       "4  White  "
      ]
     },
     "execution_count": 3,
     "metadata": {},
     "output_type": "execute_result"
    }
   ],
   "source": [
    "df.head()"
   ]
  },
  {
   "cell_type": "code",
   "execution_count": 4,
   "metadata": {},
   "outputs": [
    {
     "name": "stdout",
     "output_type": "stream",
     "text": [
      "<class 'pandas.core.frame.DataFrame'>\n",
      "RangeIndex: 16898 entries, 0 to 16897\n",
      "Data columns (total 20 columns):\n",
      " #   Column                                Non-Null Count  Dtype  \n",
      "---  ------                                --------------  -----  \n",
      " 0   Timestamp                             16898 non-null  object \n",
      " 1   How old are you?                      16898 non-null  object \n",
      " 2   Industry                              16852 non-null  object \n",
      " 3   Functional area of job                16787 non-null  object \n",
      " 4   Job title                             16898 non-null  object \n",
      " 5   Job title - additional context        3841 non-null   object \n",
      " 6   Annual salary (gross)                 16898 non-null  int64  \n",
      " 7   Additional monetary compensation      12952 non-null  float64\n",
      " 8   Currency                              16898 non-null  object \n",
      " 9   Currency - other                      89 non-null     object \n",
      " 10  Income - additional context           1671 non-null   object \n",
      " 11  Country                               16898 non-null  object \n",
      " 12  State                                 13944 non-null  object \n",
      " 13  City                                  16831 non-null  object \n",
      " 14  Remote or on-site?                    16835 non-null  object \n",
      " 15  Years of experience, overall          16898 non-null  object \n",
      " 16  Years of experience in field          16898 non-null  object \n",
      " 17  Highest level of education completed  16849 non-null  object \n",
      " 18  Gender                                16819 non-null  object \n",
      " 19  Race                                  16833 non-null  object \n",
      "dtypes: float64(1), int64(1), object(18)\n",
      "memory usage: 2.6+ MB\n"
     ]
    }
   ],
   "source": [
    "df.info()"
   ]
  },
  {
   "cell_type": "code",
   "execution_count": 5,
   "metadata": {},
   "outputs": [
    {
     "data": {
      "text/plain": [
       "Race\n",
       "Asian or Asian American, Black or African American, Native American or Alaska Native, White                                                                      1\n",
       "Asian or Asian American, Hispanic, Latino, or Spanish origin, Native American or Alaska Native, White                                                            1\n",
       "Asian or Asian American, Hispanic, Latino, or Spanish origin, Native American or Alaska Native, White, Another option not listed here or prefer not to answer    1\n",
       "Asian or Asian American, Black or African American, Hispanic, Latino, or Spanish origin, White                                                                   1\n",
       "Middle Eastern or Northern African, White, Another option not listed here or prefer not to answer                                                                1\n",
       "Name: count, dtype: int64"
      ]
     },
     "execution_count": 5,
     "metadata": {},
     "output_type": "execute_result"
    }
   ],
   "source": [
    "df[\"Race\"].value_counts().tail()"
   ]
  },
  {
   "cell_type": "markdown",
   "metadata": {},
   "source": [
    "Some observations:\n",
    "* Some columns that we'd expect to be numbers are actually text (\"Years of experience in field\"; ranges instead of integers for \"How old are you?\" and years of experience). \n",
    "* Some have many NaN values (\"Job title - additional context\", \"Currency - other\", \"Income - additional context\"). For \"Additional monetary compensation\", a 0 value and a NaN value seem to have the same meaning, but respondents have entered both.\n",
    "* Some columns, such as \"Race\", had the option to select multiple values.\n",
    "* Many of the columns have long, unwieldy names."
   ]
  },
  {
   "cell_type": "markdown",
   "metadata": {},
   "source": [
    "In addition, some columns that respondents could enter free-form have unexpected values, such as \"Fairfax County\" in the \"City\" column for row 1. In a production context, I would speak to a subject matter expert to determine whether to drop the affected rows, alter their values, or keep them as-is. In this case I will keep the values as-is to avoid loss of information."
   ]
  },
  {
   "cell_type": "markdown",
   "metadata": {},
   "source": [
    "## Drop unneeded data"
   ]
  },
  {
   "cell_type": "markdown",
   "metadata": {},
   "source": [
    "First, to make sure no accidental duplicates exist:"
   ]
  },
  {
   "cell_type": "code",
   "execution_count": 6,
   "metadata": {},
   "outputs": [],
   "source": [
    "df.drop_duplicates(inplace=True)"
   ]
  },
  {
   "cell_type": "markdown",
   "metadata": {},
   "source": [
    "Assuming that the end user doesn't care when responses were submitted, let\"s remove the Timestamp column."
   ]
  },
  {
   "cell_type": "code",
   "execution_count": 7,
   "metadata": {},
   "outputs": [],
   "source": [
    "df.drop(columns=\"Timestamp\", inplace=True)"
   ]
  },
  {
   "cell_type": "markdown",
   "metadata": {},
   "source": [
    "The \"Job title\" column is freeform. It's possible that every entry is unique. This field isn't as useful for analysis, so I will drop it. I will also drop two similar columns: \"Job title - additional context\" and \"Income - additional context\"."
   ]
  },
  {
   "cell_type": "code",
   "execution_count": 8,
   "metadata": {},
   "outputs": [],
   "source": [
    "df.drop(columns=[\"Job title\", \"Job title - additional context\", \"Income - additional context\"], inplace=True)"
   ]
  },
  {
   "cell_type": "markdown",
   "metadata": {},
   "source": [
    "## Rename columns"
   ]
  },
  {
   "cell_type": "markdown",
   "metadata": {},
   "source": [
    "Some of the column names are long. I'll rename them so they are easier to type."
   ]
  },
  {
   "cell_type": "code",
   "execution_count": 9,
   "metadata": {},
   "outputs": [],
   "source": [
    "df.rename(columns={\"How old are you?\": \"Age\",\n",
    "                   \"Functional area of job\": \"Job function\",\n",
    "                   \"Annual salary (gross)\": \"Salary\",\n",
    "                   \"Additional monetary compensation\": \"Additional compensation\",\n",
    "                   \"Remote or on-site?\": \"Work location\",\n",
    "                   \"Years of experience, overall\": \"Experience overall\",\n",
    "                   \"Years of experience in field\": \"Experience in field\",\n",
    "                   \"Highest level of education completed\": \"Education\"}, inplace=True)"
   ]
  },
  {
   "cell_type": "code",
   "execution_count": 10,
   "metadata": {},
   "outputs": [
    {
     "data": {
      "text/plain": [
       "['Age',\n",
       " 'Industry',\n",
       " 'Job function',\n",
       " 'Salary',\n",
       " 'Additional compensation',\n",
       " 'Currency',\n",
       " 'Currency - other',\n",
       " 'Country',\n",
       " 'State',\n",
       " 'City',\n",
       " 'Work location',\n",
       " 'Experience overall',\n",
       " 'Experience in field',\n",
       " 'Education',\n",
       " 'Gender',\n",
       " 'Race']"
      ]
     },
     "execution_count": 10,
     "metadata": {},
     "output_type": "execute_result"
    }
   ],
   "source": [
    "list(df.columns)"
   ]
  },
  {
   "cell_type": "markdown",
   "metadata": {},
   "source": [
    "## Convert data types"
   ]
  },
  {
   "cell_type": "code",
   "execution_count": 11,
   "metadata": {},
   "outputs": [
    {
     "data": {
      "text/plain": [
       "Age                         object\n",
       "Industry                    object\n",
       "Job function                object\n",
       "Salary                       int64\n",
       "Additional compensation    float64\n",
       "Currency                    object\n",
       "Currency - other            object\n",
       "Country                     object\n",
       "State                       object\n",
       "City                        object\n",
       "Work location               object\n",
       "Experience overall          object\n",
       "Experience in field         object\n",
       "Education                   object\n",
       "Gender                      object\n",
       "Race                        object\n",
       "dtype: object"
      ]
     },
     "execution_count": 11,
     "metadata": {},
     "output_type": "execute_result"
    }
   ],
   "source": [
    "df.dtypes"
   ]
  },
  {
   "cell_type": "code",
   "execution_count": 12,
   "metadata": {},
   "outputs": [
    {
     "data": {
      "text/plain": [
       "Age\n",
       "35-44         6937\n",
       "25-34         5885\n",
       "18-24          342\n",
       "45-54         2726\n",
       "55-64          901\n",
       "65 or over     104\n",
       "under 18         3\n",
       "Name: count, dtype: int64"
      ]
     },
     "execution_count": 12,
     "metadata": {},
     "output_type": "execute_result"
    }
   ],
   "source": [
    "df[\"Age\"].value_counts(sort=False)"
   ]
  },
  {
   "cell_type": "code",
   "execution_count": 19,
   "metadata": {},
   "outputs": [],
   "source": [
    "# ['Age', make categorical\n",
    "# 'Industry', make categorical\n",
    "#'Job function', make categorical\n",
    "# Salary convert all to USD. Check for outliers?\n",
    "# Additional compensation convert all to USD\n",
    "#' 'Currency', drop once convert to USD\n",
    "#'Currency - other', same as above\n",
    "#'Country',  clean to extract/standardize. once done, make categorical?\n",
    "#'State', deal with multivalues - get_dummies()?\n",
    "#'City', clean to remove state names?\n",
    "#'Work location', make categorical\n",
    "#'Experience overall', make categorical\n",
    "#'Experience in field', make categorical\n",
    "#'Education', clean to deal with 'other' inputs then make categorical\n",
    "#'Gender', get_dummies() \n",
    "#'Race'] get_dummies()\n",
    " "
   ]
  },
  {
   "cell_type": "code",
   "execution_count": 18,
   "metadata": {},
   "outputs": [
    {
     "data": {
      "text/plain": [
       "Education\n",
       "College degree                                                             7627\n",
       "Master's degree                                                            5649\n",
       "Some college                                                               1149\n",
       "PhD                                                                        1081\n",
       "Professional degree (MD, JD, etc.)                                          882\n",
       "                                                                           ... \n",
       "CPA                                                                           1\n",
       "EdD in progress                                                               1\n",
       "Postgraduate Diploma in Science                                               1\n",
       "Bachelor's Degree, from a University (Colleges are different in Canada)       1\n",
       "Associates Degree in Social & Behavioral Sciences                             1\n",
       "Name: count, Length: 182, dtype: int64"
      ]
     },
     "execution_count": 18,
     "metadata": {},
     "output_type": "execute_result"
    }
   ],
   "source": [
    "df['Education'].value_counts()"
   ]
  },
  {
   "cell_type": "markdown",
   "metadata": {},
   "source": [
    "The purely numeric columns, Salary and Additional compensation, already have numeric dtypes. \n",
    "Several other columns can be converted to the Categorical dtype, [which saves memory when there are far fewer categories than rows](https://pandas.pydata.org/docs/user_guide/categorical.html#categorical-memory). A Categorical type also allows user-defined ordering where desired (so that, for example, \"under 18\" can come before \"18-24\" in the Age column)."
   ]
  },
  {
   "cell_type": "code",
   "execution_count": 16,
   "metadata": {},
   "outputs": [],
   "source": [
    "from pandas.api.types import CategoricalDtype"
   ]
  },
  {
   "cell_type": "code",
   "execution_count": 17,
   "metadata": {},
   "outputs": [],
   "source": [
    "age_type = CategoricalDtype(categories=[\"under 18\",\n",
    "                                        \"18-24\",\n",
    "                                        \"25-34\",\n",
    "                                        \"35-44\",\n",
    "                                        \"45-54\",\n",
    "                                        \"55-64\",\n",
    "                                        \"65 or over\"], ordered=True)\n",
    "\n",
    "df[\"Age\"] = df[\"Age\"].astype(age_type)"
   ]
  },
  {
   "cell_type": "code",
   "execution_count": 18,
   "metadata": {},
   "outputs": [],
   "source": [
    "experience_type = CategoricalDtype(categories=[\"1 year or less\",\n",
    "                                                \"2-4 years\",\n",
    "                                                \"5-7 years\",\n",
    "                                                \"8-10 years\",\n",
    "                                                \"11-20 years\",\n",
    "                                                \"21-30 years\",\n",
    "                                                \"31-40 years\",\n",
    "                                                \"41 years or more\"], ordered=True)\n",
    "\n",
    "df[\"Experience overall\"] = df[\"Experience overall\"].astype(experience_type)\n",
    "df[\"Experience in field\"] = df[\"Experience in field\"].astype(experience_type)"
   ]
  },
  {
   "cell_type": "code",
   "execution_count": 21,
   "metadata": {},
   "outputs": [
    {
     "data": {
      "text/plain": [
       "Education\n",
       "College degree                                                             7627\n",
       "Master's degree                                                            5649\n",
       "Some college                                                               1149\n",
       "PhD                                                                        1081\n",
       "Professional degree (MD, JD, etc.)                                          882\n",
       "                                                                           ... \n",
       "CPA                                                                           1\n",
       "EdD in progress                                                               1\n",
       "Postgraduate Diploma in Science                                               1\n",
       "Bachelor's Degree, from a University (Colleges are different in Canada)       1\n",
       "Associates Degree in Social & Behavioral Sciences                             1\n",
       "Name: count, Length: 182, dtype: int64"
      ]
     },
     "execution_count": 21,
     "metadata": {},
     "output_type": "execute_result"
    }
   ],
   "source": [
    "df[\"Education\"].value_counts()"
   ]
  },
  {
   "cell_type": "code",
   "execution_count": 22,
   "metadata": {},
   "outputs": [],
   "source": [
    "category_columns = [\"Industry\", \"Job function\", \"Country\", \"State\", \"Work location\"]\n",
    "for c in category_columns:\n",
    "    df[c] = df[c].astype(\"category\")"
   ]
  },
  {
   "cell_type": "markdown",
   "metadata": {},
   "source": [
    "## Standardize income"
   ]
  },
  {
   "cell_type": "markdown",
   "metadata": {},
   "source": [
    "For consistency, let's replace NaN values with 0 in the \"Additional compensation\" column."
   ]
  },
  {
   "cell_type": "code",
   "execution_count": 27,
   "metadata": {},
   "outputs": [],
   "source": [
    "df[\"Additional compensation\"].fillna(0, inplace=True)"
   ]
  },
  {
   "cell_type": "markdown",
   "metadata": {},
   "source": [
    "Standardize amounts by converting all non-USD values to USD."
   ]
  },
  {
   "cell_type": "code",
   "execution_count": null,
   "metadata": {},
   "outputs": [],
   "source": []
  },
  {
   "cell_type": "code",
   "execution_count": null,
   "metadata": {},
   "outputs": [],
   "source": [
    "#remove currency cols"
   ]
  },
  {
   "cell_type": "markdown",
   "metadata": {},
   "source": [
    "For easier querying, create a column of total income (salary plus additional compensation)."
   ]
  },
  {
   "cell_type": "code",
   "execution_count": null,
   "metadata": {},
   "outputs": [],
   "source": []
  },
  {
   "cell_type": "markdown",
   "metadata": {},
   "source": [
    "## The complete script - short version"
   ]
  },
  {
   "cell_type": "code",
   "execution_count": null,
   "metadata": {},
   "outputs": [],
   "source": []
  }
 ],
 "metadata": {
  "kernelspec": {
   "display_name": "Python 3",
   "language": "python",
   "name": "python3"
  },
  "language_info": {
   "codemirror_mode": {
    "name": "ipython",
    "version": 3
   },
   "file_extension": ".py",
   "mimetype": "text/x-python",
   "name": "python",
   "nbconvert_exporter": "python",
   "pygments_lexer": "ipython3",
   "version": "3.11.2"
  },
  "orig_nbformat": 4
 },
 "nbformat": 4,
 "nbformat_minor": 2
}
